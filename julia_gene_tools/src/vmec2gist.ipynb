{
 "cells": [
  {
   "cell_type": "code",
   "execution_count": 3,
   "id": "bd22d354",
   "metadata": {},
   "outputs": [
    {
     "data": {
      "text/plain": [
       "woutToGist (generic function with 1 method)"
      ]
     },
     "metadata": {},
     "output_type": "display_data"
    }
   ],
   "source": [
    "# Creating gist file from VMEC output (wout.nc)\n",
    "\n",
    "using VMEC, GeneTools, NetCDF\n",
    "\n",
    "function woutToGist(woutfile::String, output_dir::String;\n",
    "                     s0=0.5,\n",
    "\t\t     alpha0=0.0, # NOTE: alpha0_ouput (in gist) = alpha0_input/q0 \n",
    "\t\t     nz0=128,\n",
    "\t\t     npol=1,\n",
    "\t\t     )\n",
    "\tvmec = readVmecWout(woutfile)\n",
    "\t# Extract filename from path (part after last /) and remove extension\n",
    "\twout_filename = split(woutfile, \"/\")[end]\n",
    "\twout_name = splitext(wout_filename)[1]  # Remove extension\n",
    "    output_file = \"$(output_dir)/gist_$(wout_name)_s0-$(s0)_alpha0-$(alpha0)_nz0-$(nz0)_npol-$(npol)\"\n",
    "\twrite_gene_geometry(vmec,s0,alpha0,nz0,npol,output_file)\n",
    "end"
   ]
  },
  {
   "cell_type": "code",
   "execution_count": 4,
   "id": "1fc703f8",
   "metadata": {},
   "outputs": [],
   "source": [
    "woutToGist(\"/u/nigu/gene-stuff/geometry/vmec/wout_kjm_beta-0.nc\", \"/u/nigu/gene-stuff/geometry/gist\",\n",
    "           s0=0.5, alpha0=0.0, nz0=192, npol=2)"
   ]
  },
  {
   "cell_type": "code",
   "execution_count": null,
   "id": "ff5e7388",
   "metadata": {},
   "outputs": [],
   "source": []
  }
 ],
 "metadata": {
  "kernelspec": {
   "display_name": "Julia 1.11.6",
   "language": "julia",
   "name": "julia-1.11"
  },
  "language_info": {
   "file_extension": ".jl",
   "mimetype": "application/julia",
   "name": "julia",
   "version": "1.11.6"
  }
 },
 "nbformat": 4,
 "nbformat_minor": 5
}
